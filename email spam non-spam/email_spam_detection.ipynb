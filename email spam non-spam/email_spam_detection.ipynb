{
  "nbformat": 4,
  "nbformat_minor": 0,
  "metadata": {
    "colab": {
      "provenance": []
    },
    "kernelspec": {
      "name": "python3",
      "display_name": "Python 3"
    },
    "language_info": {
      "name": "python"
    }
  },
  "cells": [
    {
      "cell_type": "markdown",
      "source": [],
      "metadata": {
        "id": "j0uiKtzA8gO3"
      }
    },
    {
      "cell_type": "code",
      "execution_count": null,
      "metadata": {
        "id": "N6-kUcCm8E1m"
      },
      "outputs": [],
      "source": [
        "import pandas as pd\n",
        "import numpy as np\n",
        "import matplotlib.pyplot as plt\n",
        "import nltk\n",
        "import re\n",
        "from sklearn.model_selection import train_test_split\n",
        "from sklearn.metrics import confusion_matrix\n",
        "from sklearn.metrics import precision_score, recall_score\n",
        "from sklearn.metrics import f1_score\n",
        "from sklearn.metrics import accuracy_score\n",
        "from sklearn.neighbors import KNeighborsClassifier\n",
        "nltk.download('stopwords')\n",
        "from nltk.corpus import stopwords\n",
        "from nltk.stem.porter import PorterStemmer\n",
        "\n",
        "\n",
        "email_data=pd.read_csv(\"N:\\Machine learning\\Algorithms\\spam_ham_dataset.csv\")\n",
        "email_data=email_data.drop(['Unnamed: 0','label'],axis=1)\n",
        "\n",
        "# print(email_data['label_num'].value_counts())\n",
        "\n",
        "\n",
        "                                           #-----------check for null values----------\n",
        "\n",
        "# print(email_data.isnull().any())\n",
        "\n",
        "                                         #---------data preprocessing---------\n",
        "\n",
        "stopset = set(stopwords.words(\"english\"))\n",
        "corpus = []\n",
        "for i in range(0, len(email_data)):\n",
        "  e_mail = re.sub('[^a-zA-Z]', ' ', email_data['text'][i])\n",
        "  e_mail = e_mail.split()\n",
        "  ps = PorterStemmer()\n",
        "  e_mail = [ps.stem(word) for word in e_mail if not word in set(stopwords.words('english'))]\n",
        "  e_mail = ' '.join(e_mail)\n",
        "  corpus.append(e_mail)\n",
        "\n",
        "\n",
        "from sklearn.feature_extraction.text import CountVectorizer\n",
        "cv = CountVectorizer()\n",
        "\n",
        "x=cv.fit_transform(corpus)\n",
        "\n",
        "\n",
        "\n",
        "y=email_data['label_num']\n",
        "\n",
        "x_train,x_test,y_train,y_test=train_test_split(x,y,test_size=0.2,random_state=5)\n",
        "\n",
        "model=KNeighborsClassifier(n_neighbors=1)\n",
        "model.fit(x_train,y_train)\n",
        "y_pred=model.predict(x_test)\n",
        "\n",
        "confusion_mat=confusion_matrix(y_test,y_pred,labels=None)\n",
        "print(\"confusion_mat = \",confusion_mat)\n",
        "print(\"Accuracy Score:\",accuracy_score(y_test,y_pred))              \n",
        "print(\"precision score = \",precision_score(y_test, y_pred))         \n",
        "print(\"recall score = \",recall_score(y_test, y_pred))               \n",
        "print(\"F1 score = \",f1_score(y_test, y_pred))         "
      ]
    }
  ]
}