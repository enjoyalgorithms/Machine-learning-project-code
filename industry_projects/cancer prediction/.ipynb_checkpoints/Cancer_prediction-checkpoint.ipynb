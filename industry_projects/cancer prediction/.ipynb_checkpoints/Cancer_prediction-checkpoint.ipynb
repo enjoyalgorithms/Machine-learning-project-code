{
 "cells": [
  {
   "cell_type": "code",
   "execution_count": null,
   "metadata": {
    "id": "rKyCsIFneUG1"
   },
   "outputs": [],
   "source": [
    "from sklearn.datasets import load_breast_cancer\n",
    "from matplotlib import pyplot as plt\n",
    "import numpy as np\n",
    "from sklearn.svm import SVC\n",
    "import pandas as pd\n",
    "from sklearn.model_selection import train_test_split\n",
    "from sklearn.preprocessing import StandardScaler\n",
    "from sklearn.model_selection import train_test_split\n",
    "from sklearn.metrics import accuracy_score\n",
    "from sklearn.metrics import f1_score\n",
    "from sklearn.metrics import precision_score\n",
    "from sklearn.metrics import recall_score\n",
    "from sklearn.metrics import roc_auc_score\n",
    "import seaborn as sns\n",
    "from sklearn.decomposition import PCA\n",
    "\n",
    "dat=load_breast_cancer()\n",
    "\n",
    "cancer_features=pd.DataFrame(dat.data,columns=dat.feature_names)\n",
    "\n",
    "li_classes = [dat.target_names[1], dat.target_names[0]]\n",
    "from sklearn.preprocessing import LabelEncoder\n",
    "le = LabelEncoder()\n",
    "target_encoded = pd.Series(dat.target)\n",
    "target = le.fit_transform(target_encoded)\n",
    "\n",
    "\n",
    "                             #-----------checking for null values-------\n",
    "# print(cancer_features.isnull().any())\n",
    "\n",
    "                             #---------checking for outliers---------\n",
    "#the values are of string type\n",
    "\n",
    "# for i in cancer_features.columns:\n",
    "#     q75, q25 = np.percentile(cancer_features[i], [75 ,25])\n",
    "#     iqr = q75 - q25\n",
    "#     print(iqr,'-----')\n",
    "#     min_val = q25 - (iqr*1.5)\n",
    "#     max_val = q75 + (iqr*1.5)\n",
    "#     print(i,\"------\",type(i))\n",
    "#     anomaly=cancer_features[int (cancer_features[i])>max_val|int(cancer_features[i])<min_val]\n",
    "#     print(anomaly)\n",
    "\n",
    "                                            #------feature selection---------\n",
    "\n",
    "# plt.figure(figsize=(10,10))\n",
    "# sns.heatmap(cancer_features.corr(), square=True, cmap='coolwarm')\n",
    "# plt.show()\n",
    "\n",
    "# from sklearn.ensemble import RandomForestRegressor\n",
    "# rfr=RandomForestRegressor(n_estimators=1300)\n",
    "# rfr.fit(cancer_features,target)\n",
    "# importance=rfr.feature_importances_\n",
    "# importance_df=pd.DataFrame({\"Features\": cancer_features.columns,\"Importance\": importance})\n",
    "# importance_df=importance_df.sort_values(\"Importance\")\n",
    "# plt.bar(importance_df[\"Features\"],importance_df[\"Importance\"])\n",
    "# plt.show()\n",
    "\n",
    "# after analysing correlation matrix and random forest regression result we found that droping some features will not affect our model and will make our model lighter\n",
    "\n",
    "cancer_features=cancer_features.drop(['mean perimeter','mean area','mean radius','mean compactness'],axis=1)\n",
    "\n",
    "\n",
    "\n",
    "\n",
    "\n",
    "                                            #-------feature scaling--------\n",
    "\n",
    "STD=StandardScaler()\n",
    "cancer_features=STD.fit_transform(cancer_features)\n",
    "\n",
    "\n",
    "                                            #-------feature reduction--------\n",
    "pca = PCA(n_components=10)\n",
    "fit = pca.fit(cancer_features)\n",
    "cancer_features=pca.transform(cancer_features)\n",
    "# print(cancer_features.shape)\n",
    "\n",
    "\n",
    "                                           #------data splitting-------\n",
    "\n",
    "x_train,x_test,y_train,y_test=train_test_split(cancer_features,target,test_size=0.3,random_state=0)\n",
    "\n",
    "\n",
    "model=SVC(C=1.2,kernel='rbf')\n",
    "model.fit(x_train,y_train)\n",
    "y_pred=model.predict(x_test)\n",
    "print(\"accuracy: \", accuracy_score(y_test, y_pred))\n",
    "print(\"precision: \", precision_score(y_test, y_pred)) \n",
    "print(\"recall: \", recall_score(y_test, y_pred))\n",
    "print(\"f1: \", f1_score(y_test, y_pred))\n",
    "print(\"area under curve (auc): \", roc_auc_score(y_test, y_pred))\n",
    "\n",
    "\n"
   ]
  },
  {
   "cell_type": "code",
   "execution_count": 2,
   "metadata": {},
   "outputs": [
    {
     "ename": "NameError",
     "evalue": "name 'Here' is not defined",
     "output_type": "error",
     "traceback": [
      "\u001b[0;31m---------------------------------------------------------------------------\u001b[0m",
      "\u001b[0;31mNameError\u001b[0m                                 Traceback (most recent call last)",
      "Cell \u001b[0;32mIn [2], line 1\u001b[0m\n\u001b[0;32m----> 1\u001b[0m \u001b[43mHere\u001b[49m\n",
      "\u001b[0;31mNameError\u001b[0m: name 'Here' is not defined"
     ]
    }
   ],
   "source": [
    "Here"
   ]
  },
  {
   "cell_type": "code",
   "execution_count": 1,
   "metadata": {},
   "outputs": [
    {
     "name": "stderr",
     "output_type": "stream",
     "text": [
      "Matplotlib created a temporary config/cache directory at /var/folders/w1/ddjn79r10gb30q27xq0t_fjw0000gn/T/matplotlib-egl9630n because the default path (/Users/ravishkumar/.matplotlib) is not a writable directory; it is highly recommended to set the MPLCONFIGDIR environment variable to a writable directory, in particular to speed up the import of Matplotlib and to better support multiprocessing.\n"
     ]
    }
   ],
   "source": [
    "import numpy as np\n",
    "import pandas as pd\n",
    "from sklearn.datasets import load_breast_cancer\n",
    "from matplotlib import pyplot as plt"
   ]
  },
  {
   "cell_type": "code",
   "execution_count": null,
   "metadata": {},
   "outputs": [],
   "source": [
    "from sklearn.model_selection import train_test_split\n",
    "from sklearn.preprocessing import StandardScaler\n",
    "from sklearn.model_selection import train_test_split\n",
    "from sklearn.metrics import accuracy_score\n",
    "from sklearn.metrics import f1_score\n",
    "from sklearn.metrics import precision_score\n",
    "from sklearn.metrics import recall_score\n",
    "from sklearn.metrics import roc_auc_score\n",
    "import seaborn as sns\n",
    "from sklearn.decomposition import PCA"
   ]
  }
 ],
 "metadata": {
  "colab": {
   "provenance": [],
   "toc_visible": true
  },
  "kernelspec": {
   "display_name": "Python 3 (ipykernel)",
   "language": "python",
   "name": "python3"
  },
  "language_info": {
   "codemirror_mode": {
    "name": "ipython",
    "version": 3
   },
   "file_extension": ".py",
   "mimetype": "text/x-python",
   "name": "python",
   "nbconvert_exporter": "python",
   "pygments_lexer": "ipython3",
   "version": "3.9.6"
  }
 },
 "nbformat": 4,
 "nbformat_minor": 1
}
