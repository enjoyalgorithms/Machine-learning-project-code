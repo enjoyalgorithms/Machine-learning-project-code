{
 "cells": [
  {
   "cell_type": "markdown",
   "id": "25fe351a",
   "metadata": {},
   "source": [
    "## This Notebook will be used to demonstrate the steps to build k-means based Clustering method mentioned in this blog: [K-Means Clustering Algorithm in Machine Learning](https://www.enjoyalgorithms.com/blog/k-means-clustering-algorithm/)"
   ]
  },
  {
   "cell_type": "code",
   "execution_count": 2,
   "id": "97bb3b6b",
   "metadata": {},
   "outputs": [],
   "source": [
    "import pandas as pd\n",
    "from sklearn.datasets import load_iris\n",
    "from sklearn.cluster import KMeans\n",
    "import matplotlib.pyplot as plt\n",
    "from mpl_toolkits.mplot3d import Axes3D"
   ]
  },
  {
   "cell_type": "markdown",
   "id": "8bd00bd9",
   "metadata": {},
   "source": [
    "### We will be using the same Iris data, but this time for unsupervised learning"
   ]
  },
  {
   "cell_type": "code",
   "execution_count": 3,
   "id": "350859c2",
   "metadata": {},
   "outputs": [],
   "source": [
    "iris = load_iris()\n",
    "X = iris.data\n",
    "y = iris.target"
   ]
  },
  {
   "cell_type": "markdown",
   "id": "bba5783f",
   "metadata": {},
   "source": [
    "### Fitting the model with three clusters"
   ]
  },
  {
   "cell_type": "code",
   "execution_count": 4,
   "id": "a30e1a40",
   "metadata": {},
   "outputs": [],
   "source": [
    "kmeans = KMeans(n_clusters=3, max_iter=1000).fit(X)\n",
    "labels = kmeans.labels_"
   ]
  },
  {
   "cell_type": "markdown",
   "id": "8005dec7",
   "metadata": {},
   "source": [
    "### Plotting the clusters using 3-D picture"
   ]
  },
  {
   "cell_type": "code",
   "execution_count": 9,
   "id": "5d853ac3",
   "metadata": {},
   "outputs": [
    {
     "name": "stderr",
     "output_type": "stream",
     "text": [
      "/var/folders/w1/ddjn79r10gb30q27xq0t_fjw0000gn/T/ipykernel_19786/2134922064.py:8: MatplotlibDeprecationWarning: The w_xaxis attribute was deprecated in Matplotlib 3.1 and will be removed in 3.8. Use xaxis instead.\n",
      "  ax.w_xaxis.set_ticklabels([])\n",
      "/var/folders/w1/ddjn79r10gb30q27xq0t_fjw0000gn/T/ipykernel_19786/2134922064.py:9: MatplotlibDeprecationWarning: The w_yaxis attribute was deprecated in Matplotlib 3.1 and will be removed in 3.8. Use yaxis instead.\n",
      "  ax.w_yaxis.set_ticklabels([])\n",
      "/var/folders/w1/ddjn79r10gb30q27xq0t_fjw0000gn/T/ipykernel_19786/2134922064.py:10: MatplotlibDeprecationWarning: The w_zaxis attribute was deprecated in Matplotlib 3.1 and will be removed in 3.8. Use zaxis instead.\n",
      "  ax.w_zaxis.set_ticklabels([])\n",
      "/var/folders/w1/ddjn79r10gb30q27xq0t_fjw0000gn/T/ipykernel_19786/2134922064.py:15: MatplotlibDeprecationWarning: The dist attribute was deprecated in Matplotlib 3.6 and will be removed two minor releases later.\n",
      "  ax.dist = 12\n"
     ]
    },
    {
     "data": {
      "text/plain": [
       "<Figure size 400x300 with 0 Axes>"
      ]
     },
     "metadata": {},
     "output_type": "display_data"
    }
   ],
   "source": [
    "fig = plt.figure(figsize=(4, 3))\n",
    "\n",
    "ax = Axes3D(fig, rect=[0, 0, .95, 1], elev=48, azim=134)\n",
    "\n",
    "ax.scatter(X[:, 3], X[:, 0], X[:, 2],\n",
    "           c=labels.astype(float), edgecolor='k')\n",
    "\n",
    "ax.w_xaxis.set_ticklabels([])\n",
    "ax.w_yaxis.set_ticklabels([])\n",
    "ax.w_zaxis.set_ticklabels([])\n",
    "ax.set_xlabel('Petal width')\n",
    "ax.set_ylabel('Sepal length')\n",
    "ax.set_zlabel('Petal length')\n",
    "\n",
    "ax.dist = 12\n",
    "\n",
    "plt.show()"
   ]
  },
  {
   "cell_type": "code",
   "execution_count": null,
   "id": "8add9076",
   "metadata": {},
   "outputs": [],
   "source": []
  }
 ],
 "metadata": {
  "kernelspec": {
   "display_name": "Python 3 (ipykernel)",
   "language": "python",
   "name": "python3"
  },
  "language_info": {
   "codemirror_mode": {
    "name": "ipython",
    "version": 3
   },
   "file_extension": ".py",
   "mimetype": "text/x-python",
   "name": "python",
   "nbconvert_exporter": "python",
   "pygments_lexer": "ipython3",
   "version": "3.9.6"
  }
 },
 "nbformat": 4,
 "nbformat_minor": 5
}
