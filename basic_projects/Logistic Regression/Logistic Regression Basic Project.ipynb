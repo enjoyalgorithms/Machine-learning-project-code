{
 "cells": [
  {
   "cell_type": "markdown",
   "id": "2be11322",
   "metadata": {},
   "source": [
    "## This Notebook will be used to demonstrate the steps to build a Logistic Regression Model mentioned in this blog: [Logistic Regression in Machine Learning](https://www.enjoyalgorithms.com/blog/logistic-regression-in-ml/)"
   ]
  },
  {
   "cell_type": "code",
   "execution_count": 2,
   "id": "d4ccc3d9",
   "metadata": {},
   "outputs": [],
   "source": [
    "## Importing of required libraries\n",
    "import pandas as pd\n",
    "import matplotlib.pyplot as plt\n",
    "\n",
    "from sklearn.model_selection import train_test_split\n",
    "\n",
    "from sklearn.linear_model import LogisticRegression\n",
    "\n",
    "from sklearn.metrics import confusion_matrix"
   ]
  },
  {
   "cell_type": "markdown",
   "id": "47c3ea7f",
   "metadata": {},
   "source": [
    "### Read the data file and filter required columns"
   ]
  },
  {
   "cell_type": "code",
   "execution_count": 14,
   "id": "ffda7bd3",
   "metadata": {},
   "outputs": [],
   "source": [
    "path = 'college_admit.csv'\n",
    "\n",
    "def data_set(path):\n",
    "    \n",
    "    data = pd.read_csv(path, header = 0)\n",
    "    df = pd.DataFrame(data, columns= ['sat','gpa','admitted'])\n",
    "    \n",
    "    X = df[['sat','gpa']]\n",
    "    y = df['admitted']\n",
    "    print(\"DataFrame : \\n \",df.head(5))\n",
    "    \n",
    "    X_train,X_test,y_train,y_test = train_test_split(X,y, test_size=\n",
    "                                         0.2, random_state=0)\n",
    "    #It will split the data into train and test set in the ratio of\n",
    "    # 80:20 and give us the split required for training and tessting\n",
    "    \n",
    "    return (X_train,X_test,y_train,y_test)"
   ]
  },
  {
   "cell_type": "markdown",
   "id": "e2aa66fe",
   "metadata": {},
   "source": [
    "### Training the Logistic Regression Model"
   ]
  },
  {
   "cell_type": "code",
   "execution_count": 4,
   "id": "80dc6eab",
   "metadata": {},
   "outputs": [],
   "source": [
    "# logistic regression model building\n",
    "def logistic_reg(dataset):\n",
    "  \n",
    "    X_train,X_test,y_train,y_test = dataset\n",
    "    \n",
    "    model = LogisticRegression()\n",
    "    model.fit(X_train,y_train)\n",
    "    \n",
    "    return model"
   ]
  },
  {
   "cell_type": "code",
   "execution_count": 15,
   "id": "b0b450f5",
   "metadata": {},
   "outputs": [
    {
     "name": "stdout",
     "output_type": "stream",
     "text": [
      "DataFrame : \n",
      "      sat   gpa  admitted\n",
      "0   638  2.44         0\n",
      "1   889  2.39         0\n",
      "2   810  1.26         0\n",
      "3  1017  2.03         0\n",
      "4   992  1.72         0\n"
     ]
    }
   ],
   "source": [
    "dataset = data_set(path)"
   ]
  },
  {
   "cell_type": "code",
   "execution_count": 16,
   "id": "76ee2fb9",
   "metadata": {},
   "outputs": [],
   "source": [
    "#split the data into required training and testing sets\n",
    "X_train,X_test,y_train,y_test = dataset"
   ]
  },
  {
   "cell_type": "code",
   "execution_count": 17,
   "id": "23e34635",
   "metadata": {},
   "outputs": [],
   "source": [
    "#train the model\n",
    "model = logistic_reg(dataset)\n",
    "\n",
    "#prediction using the trained model\n",
    "y_pred = model.predict(X_test)"
   ]
  },
  {
   "cell_type": "code",
   "execution_count": 19,
   "id": "61dfbb1e",
   "metadata": {},
   "outputs": [
    {
     "name": "stdout",
     "output_type": "stream",
     "text": [
      "Confusion Matrix =  [[3 0]\n",
      " [1 5]]\n"
     ]
    },
    {
     "name": "stderr",
     "output_type": "stream",
     "text": [
      "/var/folders/w1/ddjn79r10gb30q27xq0t_fjw0000gn/T/ipykernel_6712/3482177664.py:10: UserWarning: FixedFormatter should only be used together with FixedLocator\n",
      "  ax.set_xticklabels([''] + ['yes','no'])\n",
      "/var/folders/w1/ddjn79r10gb30q27xq0t_fjw0000gn/T/ipykernel_6712/3482177664.py:11: UserWarning: FixedFormatter should only be used together with FixedLocator\n",
      "  ax.set_yticklabels([''] + ['yes','no'])\n"
     ]
    },
    {
     "data": {
      "text/plain": [
       "[Text(0, -1.0, ''), Text(0, 0.0, 'yes'), Text(0, 1.0, 'no'), Text(0, 2.0, '')]"
      ]
     },
     "execution_count": 19,
     "metadata": {},
     "output_type": "execute_result"
    },
    {
     "data": {
      "image/png": "[encoded data removed]",
      "text/plain": [
       "<Figure size 640x480 with 2 Axes>"
      ]
     },
     "metadata": {},
     "output_type": "display_data"
    }
   ],
   "source": [
    "# calculate the confusion matrix and plot it\n",
    "confusion_mat = confusion_matrix(y_test,y_pred, labels=None)\n",
    "print(\"Confusion Matrix = \",confusion_mat)\n",
    "\n",
    "#ploting confusion matrix\n",
    "fig,ax = plt.subplots()\n",
    "ax.set_title(\"Confusion Matrix\")\n",
    "cm_ax = ax.matshow(confusion_mat)\n",
    "fig.colorbar(cm_ax)\n",
    "ax.set_xticklabels([''] + ['yes','no'])\n",
    "ax.set_yticklabels([''] + ['yes','no'])"
   ]
  },
  {
   "cell_type": "code",
   "execution_count": null,
   "id": "f1ce9ef7",
   "metadata": {},
   "outputs": [],
   "source": []
  }
 ],
 "metadata": {
  "kernelspec": {
   "display_name": "Python 3 (ipykernel)",
   "language": "python",
   "name": "python3"
  },
  "language_info": {
   "codemirror_mode": {
    "name": "ipython",
    "version": 3
   },
   "file_extension": ".py",
   "mimetype": "text/x-python",
   "name": "python",
   "nbconvert_exporter": "python",
   "pygments_lexer": "ipython3",
   "version": "3.9.6"
  }
 },
 "nbformat": 4,
 "nbformat_minor": 5
}
